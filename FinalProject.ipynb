{
 "cells": [
  {
   "cell_type": "code",
   "execution_count": 5,
   "id": "b206e3de-e280-47e0-a539-aade80633182",
   "metadata": {},
   "outputs": [
    {
     "name": "stdout",
     "output_type": "stream",
     "text": [
      "id\n",
      "title\n",
      "862\n",
      "Toy Story\n",
      "8844\n",
      "Jumanji\n",
      "15602\n",
      "Grumpier Old Men\n",
      "31357\n",
      "Waiting to Exhale\n",
      "11862\n",
      "Father of the Bride Part II\n",
      "949\n",
      "Heat\n",
      "11860\n",
      "Sabrina\n",
      "45325\n",
      "Tom and Huck\n"
     ]
    },
    {
     "ename": "UnicodeDecodeError",
     "evalue": "'charmap' codec can't decode byte 0x81 in position 1145: character maps to <undefined>",
     "output_type": "error",
     "traceback": [
      "\u001b[1;31m---------------------------------------------------------------------------\u001b[0m",
      "\u001b[1;31mUnicodeDecodeError\u001b[0m                        Traceback (most recent call last)",
      "Input \u001b[1;32mIn [5]\u001b[0m, in \u001b[0;36m<cell line: 11>\u001b[1;34m()\u001b[0m\n\u001b[0;32m     12\u001b[0m csv_reader \u001b[38;5;241m=\u001b[39m reader(read_obj)\n\u001b[0;32m     17\u001b[0m \u001b[38;5;28;01mwhile\u001b[39;00m count \u001b[38;5;241m<\u001b[39m \u001b[38;5;241m10\u001b[39m:\n\u001b[1;32m---> 18\u001b[0m     \u001b[38;5;28;01mfor\u001b[39;00m row \u001b[38;5;129;01min\u001b[39;00m csv_reader:\n\u001b[0;32m     19\u001b[0m         movie_title, movie_id \u001b[38;5;241m=\u001b[39m row[\u001b[38;5;241m5\u001b[39m], row[\u001b[38;5;241m20\u001b[39m] \n\u001b[0;32m     20\u001b[0m         \u001b[38;5;28mprint\u001b[39m(movie_title)\n",
      "File \u001b[1;32m~\\Anaconda3\\envs\\comp_gr_thy\\lib\\encodings\\cp1252.py:23\u001b[0m, in \u001b[0;36mIncrementalDecoder.decode\u001b[1;34m(self, input, final)\u001b[0m\n\u001b[0;32m     22\u001b[0m \u001b[38;5;28;01mdef\u001b[39;00m \u001b[38;5;21mdecode\u001b[39m(\u001b[38;5;28mself\u001b[39m, \u001b[38;5;28minput\u001b[39m, final\u001b[38;5;241m=\u001b[39m\u001b[38;5;28;01mFalse\u001b[39;00m):\n\u001b[1;32m---> 23\u001b[0m     \u001b[38;5;28;01mreturn\u001b[39;00m \u001b[43mcodecs\u001b[49m\u001b[38;5;241;43m.\u001b[39;49m\u001b[43mcharmap_decode\u001b[49m\u001b[43m(\u001b[49m\u001b[38;5;28;43minput\u001b[39;49m\u001b[43m,\u001b[49m\u001b[38;5;28;43mself\u001b[39;49m\u001b[38;5;241;43m.\u001b[39;49m\u001b[43merrors\u001b[49m\u001b[43m,\u001b[49m\u001b[43mdecoding_table\u001b[49m\u001b[43m)\u001b[49m[\u001b[38;5;241m0\u001b[39m]\n",
      "\u001b[1;31mUnicodeDecodeError\u001b[0m: 'charmap' codec can't decode byte 0x81 in position 1145: character maps to <undefined>"
     ]
    }
   ],
   "source": [
    "import networkx \n",
    "from csv import reader\n",
    "\n",
    "\n",
    "keywords_path = \"Downloads/keywords.csv/keywords.csv\"\n",
    "movies_metadata_path = \"Downloads/movies_metadata.csv/movies_metadata.csv\" \n",
    "\n",
    "count = 0\n",
    "\n",
    "\n",
    "with open(movies_metadata_path, 'r') as read_obj:\n",
    "    csv_reader = reader(read_obj)\n",
    "    \n",
    "   \n",
    "    \n",
    "    \n",
    "    while count < 10:\n",
    "        for row in csv_reader:\n",
    "            movie_title, movie_id = row[5], row[20] \n",
    "            print(movie_title)\n",
    "            print(movie_id)\n",
    "            count += 1\n",
    "            \n",
    "            \n",
    "            \n",
    "\n",
    "    \n",
    "    \n",
    "    \n",
    "\n"
   ]
  },
  {
   "cell_type": "code",
   "execution_count": null,
   "id": "21f04c89-8c14-45da-bb94-a2a56a5d906c",
   "metadata": {},
   "outputs": [],
   "source": []
  }
 ],
 "metadata": {
  "kernelspec": {
   "display_name": "Python 3 (ipykernel)",
   "language": "python",
   "name": "python3"
  },
  "language_info": {
   "codemirror_mode": {
    "name": "ipython",
    "version": 3
   },
   "file_extension": ".py",
   "mimetype": "text/x-python",
   "name": "python",
   "nbconvert_exporter": "python",
   "pygments_lexer": "ipython3",
   "version": "3.9.11"
  }
 },
 "nbformat": 4,
 "nbformat_minor": 5
}
