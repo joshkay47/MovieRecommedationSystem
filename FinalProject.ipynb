{
 "cells": [
  {
   "cell_type": "code",
   "execution_count": 7,
   "id": "b206e3de-e280-47e0-a539-aade80633182",
   "metadata": {},
   "outputs": [
    {
     "name": "stdout",
     "output_type": "stream",
     "text": [
      "710\n",
      "862\n",
      "8844\n",
      "15602\n",
      "31357\n",
      "11862\n",
      "949\n",
      "11860\n",
      "45325\n",
      "9091\n"
     ]
    }
   ],
   "source": [
    "import networkx as nx\n",
    "from csv import reader\n",
    "\n",
    "\n",
    "keywords_path = \"Downloads/keywords.csv/keywords.csv\"\n",
    "movies_metadata_path = \"Downloads/movies_metadata.csv/movies_metadata.csv\"\n",
    "credits_path = \"Downloads/credits.csv/credits.csv\"\n",
    "\n",
    "\n",
    "import pandas as pd\n",
    "\n",
    "metadata = pd.read_csv(movies_metadata_path, low_memory=False)\n",
    "\n",
    "genres = {}\n",
    "all_genres = []\n",
    "for idx in range(len(metadata)):\n",
    "    g = []\n",
    "    for i in metadata.iloc[idx][\"genres\"].split(\"'name': '\")[1:]:\n",
    "        g.append(i.split(\"'\")[0])\n",
    "        all_genres.append(i.split(\"'\")[0])\n",
    "    genres[metadata.iloc[idx][\"id\"]] = g\n",
    "    \n",
    "    \n",
    "\n",
    "count = 0\n",
    "\n",
    "movieGraph = nx.DiGraph()\n",
    "\n",
    "nodeDict = {}\n",
    "\n",
    "firstRow = True\n",
    "\n",
    "\n",
    "with open(movies_metadata_path, 'r', encoding=\"utf8\") as read_obj:\n",
    "    csv_reader = reader(read_obj)\n",
    "    for row in csv_reader:\n",
    "        if firstRow != True:\n",
    "            nodeInfo = {}\n",
    "            movie_title, movie_id, genre = row[20], row[5], row[3] \n",
    "            movieGraph.add_node(movie_id)\n",
    "            nodeInfo[\"node_type\"] = \"movie\"\n",
    "            nodeInfo[\"movie_title\"] = movie_title \n",
    "            nodeDict[movie_id] = nodeInfo\n",
    "            nx.set_node_attributes(movieGraph, nodeDict) \n",
    "\n",
    "            count += 1\n",
    "            if count == 10:\n",
    "                break \n",
    "                \n",
    "        else:\n",
    "            firstRow = False \n",
    "            \n",
    "\n",
    "\n"
   ]
  },
  {
   "cell_type": "code",
   "execution_count": 9,
   "id": "21f04c89-8c14-45da-bb94-a2a56a5d906c",
   "metadata": {},
   "outputs": [
    {
     "data": {
      "text/plain": [
       "OutEdgeDataView([('710', 'Adventure'), ('710', 'Action'), ('710', 'Thriller')])"
      ]
     },
     "execution_count": 9,
     "metadata": {},
     "output_type": "execute_result"
    }
   ],
   "source": [
    "for genre in all_genres:\n",
    "    movieGraph.add_node(genre)\n",
    "    \n",
    "count = 0\n",
    "    \n",
    "for key in genres.keys():\n",
    "    count +=1\n",
    "    movieNode = key \n",
    "    genres_list = genres[key] \n",
    "    for genre in genres_list:\n",
    "        movieGraph.add_edge(movieNode, genre)\n",
    "        \n",
    "    if count == 50:\n",
    "        break\n",
    "    \n",
    "\n",
    "##pos = nx.circular_layout(movieGraph)\n",
    "##nx.draw(movieGraph, with_labels=True, font_weight='bold', pos=pos)"
   ]
  },
  {
   "cell_type": "code",
   "execution_count": 10,
   "id": "daa99f44-3096-43f8-937a-2b66be17535d",
   "metadata": {},
   "outputs": [
    {
     "data": {
      "text/plain": [
       "OutEdgeDataView([('710', 'Adventure'), ('710', 'Action'), ('710', 'Thriller'), ('710', 'cuba'), ('710', 'falsely accused'), ('710', 'secret identity'), ('710', 'computer virus'), ('710', 'secret base'), ('710', 'secret intelligence service'), ('710', 'kgb'), ('710', 'satellite'), ('710', 'special car'), ('710', 'cossack'), ('710', 'electromagnetic pulse'), ('710', 'time bomb'), ('710', 'st. petersburg russia'), ('710', 'ejection seat'), ('710', 'red army')])"
      ]
     },
     "execution_count": 10,
     "metadata": {},
     "output_type": "execute_result"
    }
   ],
   "source": [
    "keywords_dict = {}\n",
    "all_keywords = []\n",
    "keywords = pd.read_csv(keywords_path, low_memory=False)\n",
    "\n",
    "for idx in range(len(keywords)):\n",
    "    k = []\n",
    "    for i in keywords.iloc[idx][\"keywords\"].split(\"'name': '\")[1:]:\n",
    "        k.append(i.split(\"'\")[0])\n",
    "        all_keywords.append(i.split(\"'\")[0])\n",
    "    keywords_dict[keywords.iloc[idx][\"id\"]] = k\n",
    "    \n",
    "for keyword in all_keywords:\n",
    "    movieGraph.add_node(keyword)\n",
    "    \n",
    "count = 0\n",
    "    \n",
    "for key in keywords_dict.keys():\n",
    "    count +=1\n",
    "    movieNode = str(key)\n",
    "    keywords_list = keywords_dict[key]\n",
    "    for keyword in keywords_list:\n",
    "        movieGraph.add_edge(movieNode, keyword)\n",
    "        \n",
    "    if count == 50:\n",
    "        break\n",
    "\n",
    "\n"
   ]
  },
  {
   "cell_type": "code",
   "execution_count": 14,
   "id": "f7c3f85f-6502-4868-a21f-8d523b57870e",
   "metadata": {},
   "outputs": [
    {
     "data": {
      "text/plain": [
       "OutEdgeDataView([('710', 'Adventure'), ('710', 'Action'), ('710', 'Thriller'), ('710', 'cuba'), ('710', 'falsely accused'), ('710', 'secret identity'), ('710', 'computer virus'), ('710', 'secret base'), ('710', 'secret intelligence service'), ('710', 'kgb'), ('710', 'satellite'), ('710', 'special car'), ('710', 'cossack'), ('710', 'electromagnetic pulse'), ('710', 'time bomb'), ('710', 'st. petersburg russia'), ('710', 'ejection seat'), ('710', 'red army'), ('710', 'Martin Campbell')])"
      ]
     },
     "execution_count": 14,
     "metadata": {},
     "output_type": "execute_result"
    }
   ],
   "source": [
    "\n",
    "\n",
    "\n",
    "credits_path = \"Downloads/credits.csv/credits.csv\"\n",
    "credits = pd.read_csv(credits_path, low_memory=False)\n",
    "\n",
    "\n",
    "director_dict = {}\n",
    "all_directors = []\n",
    "for idx in range(len(credits)):\n",
    "    d = []\n",
    "    for i in credits.iloc[idx][\"crew\"].split(\"\\'job\\': \\'Director\\', \\'name\\': \\'\")[1:]:\n",
    "        d.append(i.split(\"'\")[0])\n",
    "        all_directors.append(i.split(\"'\")[0])\n",
    "        director_dict[credits.iloc[idx][\"id\"]] = d\n",
    "        \n",
    "count = 0\n",
    "    \n",
    "for director in all_directors:\n",
    "    movieGraph.add_node(director)    \n",
    "    \n",
    "for key in director_dict.keys():\n",
    "    count +=1\n",
    "    movieNode = str(key)\n",
    "\n",
    "    for director in director_dict[key]:\n",
    "         movieGraph.add_edge(movieNode, director)\n",
    "        \n",
    "    if count == 50:\n",
    "        break\n",
    "        \n",
    "movieGraph.edges(\"710\")"
   ]
  },
  {
   "cell_type": "code",
   "execution_count": null,
   "id": "986b9dbc-8596-4276-bbc5-0e2e153d2e6b",
   "metadata": {},
   "outputs": [],
   "source": []
  }
 ],
 "metadata": {
  "kernelspec": {
   "display_name": "Python 3 (ipykernel)",
   "language": "python",
   "name": "python3"
  },
  "language_info": {
   "codemirror_mode": {
    "name": "ipython",
    "version": 3
   },
   "file_extension": ".py",
   "mimetype": "text/x-python",
   "name": "python",
   "nbconvert_exporter": "python",
   "pygments_lexer": "ipython3",
   "version": "3.9.11"
  }
 },
 "nbformat": 4,
 "nbformat_minor": 5
}
